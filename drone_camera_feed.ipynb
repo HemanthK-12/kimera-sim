{
 "cells": [
  {
   "cell_type": "code",
   "execution_count": 1,
   "metadata": {},
   "outputs": [
    {
     "name": "stderr",
     "output_type": "stream",
     "text": [
      "pybullet build time: Nov 28 2023 23:45:17\n"
     ]
    },
    {
     "name": "stdout",
     "output_type": "stream",
     "text": [
      "startThreads creating 1 threads.\n",
      "starting thread 0\n",
      "started thread 0 \n",
      "argc=2\n",
      "argv[0] = --unused\n",
      "argv[1] = --start_demo_name=Physics Server\n",
      "ExampleBrowserThreadFunc started\n",
      "X11 functions dynamically loaded using dlopen/dlsym OK!\n",
      "X11 functions dynamically loaded using dlopen/dlsym OK!\n",
      "Creating context\n",
      "Created GL 3.3 context\n",
      "Direct GLX rendering context obtained\n",
      "Making context current\n",
      "GL_VENDOR=Intel\n",
      "GL_RENDERER=Mesa Intel(R) Graphics (ADL GT2)\n",
      "GL_VERSION=4.6 (Core Profile) Mesa 23.2.1-1ubuntu3.1~22.04.2\n",
      "GL_SHADING_LANGUAGE_VERSION=4.60\n",
      "pthread_getconcurrency()=0\n",
      "Version = 4.6 (Core Profile) Mesa 23.2.1-1ubuntu3.1~22.04.2\n",
      "Vendor = Intel\n",
      "Renderer = Mesa Intel(R) Graphics (ADL GT2)\n",
      "b3Printf: Selected demo: Physics Server\n",
      "startThreads creating 1 threads.\n",
      "starting thread 0\n",
      "started thread 0 \n",
      "MotionThreadFunc thread started\n"
     ]
    }
   ],
   "source": [
    "import pybullet as p\n",
    "import pybullet_data\n",
    "import numpy as np\n",
    "import cv2\n",
    "import time\n",
    "\n",
    "physicsClient = p.connect(p.GUI)"
   ]
  },
  {
   "cell_type": "markdown",
   "metadata": {},
   "source": [
    "# Load the URDF model"
   ]
  },
  {
   "cell_type": "code",
   "execution_count": 2,
   "metadata": {},
   "outputs": [
    {
     "name": "stdout",
     "output_type": "stream",
     "text": [
      "ven = Intel\n",
      "Workaround for some crash in the Intel OpenGL driver on Linux/Ubuntu\n",
      "b3Printf: b3Warning[examples/Importers/ImportURDFDemo/BulletUrdfImporter.cpp,126]:\n",
      "\n",
      "b3Printf: urdfdom: no axis element for Joint, defaulting to (1,0,0) axis prop0_joint\n",
      "\n",
      "b3Printf: b3Warning[examples/Importers/ImportURDFDemo/BulletUrdfImporter.cpp,126]:\n",
      "\n",
      "b3Printf: urdfdom: no axis element for Joint, defaulting to (1,0,0) axis prop1_joint\n",
      "\n",
      "b3Printf: b3Warning[examples/Importers/ImportURDFDemo/BulletUrdfImporter.cpp,126]:\n",
      "\n",
      "b3Printf: urdfdom: no axis element for Joint, defaulting to (1,0,0) axis prop2_joint\n",
      "\n",
      "b3Printf: b3Warning[examples/Importers/ImportURDFDemo/BulletUrdfImporter.cpp,126]:\n",
      "\n",
      "b3Printf: urdfdom: no axis element for Joint, defaulting to (1,0,0) axis prop3_joint\n",
      "\n",
      "b3Printf: b3Warning[examples/Importers/ImportURDFDemo/BulletUrdfImporter.cpp,126]:\n",
      "\n",
      "b3Printf: urdfdom: no axis element for Joint, defaulting to (1,0,0) axis center_of_mass_joint\n",
      "\n",
      "ven = Intel\n",
      "Workaround for some crash in the Intel OpenGL driver on Linux/Ubuntu\n",
      "b3Printf: b3Warning[examples/Importers/ImportURDFDemo/BulletUrdfImporter.cpp,126]:\n",
      "\n",
      "b3Printf: No inertial data for link, using mass=1, localinertiadiagonal = 1,1,1, identity local inertial frame\n",
      "b3Printf: b3Warning[examples/Importers/ImportURDFDemo/BulletUrdfImporter.cpp,126]:\n",
      "\n",
      "b3Printf: baseLink\n"
     ]
    }
   ],
   "source": [
    "quat = p.getQuaternionFromEuler([1.57, 0, 0])\n",
    "drone_quat = p.getQuaternionFromEuler([1.57, 0, 0])\n",
    "drone = p.loadURDF('./cf2/cf2.urdf', globalScaling=2, baseOrientation=drone_quat, basePosition=[0, 0, 2])\n",
    "forest = p.loadURDF(\"./forest/forest.urdf\", basePosition=[0, 0, 0], baseOrientation=quat, useFixedBase=True)\n",
    "texture_id = p.loadTexture(\"./forest/forest.png\")\n",
    "p.changeVisualShape(forest, -1, textureUniqueId=texture_id)"
   ]
  },
  {
   "cell_type": "markdown",
   "metadata": {},
   "source": [
    "# Camera setup"
   ]
  },
  {
   "cell_type": "code",
   "execution_count": 3,
   "metadata": {},
   "outputs": [],
   "source": [
    "fov = 60  # Field of view in degrees\n",
    "aspect = 1  # Aspect ratio\n",
    "near = 0.001  # Near clipping plane\n",
    "far = 10  # Far clipping plane\n",
    "width, height = 1920, 1088  # Image size\n",
    "\n",
    "# Camera position and orientation relative to the drone (looking down)\n",
    "camera_position = [0, 0, -0.1]  # Slightly below the drone\n",
    "camera_target = [0, 0, -1]  # Pointing downward\n",
    "\n",
    "# Camera projection matrix\n",
    "projection_matrix = p.computeProjectionMatrixFOV(fov, aspect, near, far)"
   ]
  },
  {
   "cell_type": "markdown",
   "metadata": {},
   "source": [
    "# Simulate and capture video feed"
   ]
  },
  {
   "cell_type": "code",
   "execution_count": 4,
   "metadata": {},
   "outputs": [],
   "source": [
    "frame_rate = 10  # Frames per second\n",
    "duration = 10  # Duration in seconds\n",
    "total_frames = frame_rate * duration\n",
    "\n",
    "# Initialize VideoWriter\n",
    "fourcc = cv2.VideoWriter_fourcc(*'XVID')\n",
    "out = cv2.VideoWriter('drone_camera_feed.avi', fourcc, frame_rate, (width, height))"
   ]
  },
  {
   "cell_type": "markdown",
   "metadata": {},
   "source": [
    "# Keyboard control setup"
   ]
  },
  {
   "cell_type": "code",
   "execution_count": 5,
   "metadata": {},
   "outputs": [],
   "source": [
    "keys = {\n",
    "    'w': [0.1, 0, 0],\n",
    "    's': [-0.1, 0, 0],\n",
    "    'a': [0, -0.1, 0],\n",
    "    'd': [0, 0.1, 0],\n",
    "    'q': [0, 0, 0.1],\n",
    "    'e': [0, 0, -0.1]\n",
    "}"
   ]
  },
  {
   "cell_type": "markdown",
   "metadata": {},
   "source": [
    "# Main simulation loop"
   ]
  },
  {
   "cell_type": "code",
   "execution_count": 6,
   "metadata": {},
   "outputs": [],
   "source": [
    "for i in range(total_frames):\n",
    "    # Get the drone's position and orientation\n",
    "    drone_position, drone_orientation = p.getBasePositionAndOrientation(drone)\n",
    "    \n",
    "    # Check for keyboard input\n",
    "    keys_pressed = p.getKeyboardEvents()\n",
    "    for key, movement in keys.items():\n",
    "        if ord(key) in keys_pressed and keys_pressed[ord(key)] & p.KEY_WAS_TRIGGERED:\n",
    "            drone_position = [drone_position[j] + movement[j] for j in range(3)]\n",
    "            p.resetBasePositionAndOrientation(drone, drone_position, drone_orientation)\n",
    "    \n",
    "    # Compute camera's view matrix (camera positioned below drone, looking downward)\n",
    "    view_matrix = p.computeViewMatrix(\n",
    "        cameraEyePosition=[drone_position[0] + camera_position[0],\n",
    "                           drone_position[1] + camera_position[1],\n",
    "                           drone_position[2] + camera_position[2]],\n",
    "        cameraTargetPosition=[drone_position[0] + camera_target[0],\n",
    "                              drone_position[1] + camera_target[1],\n",
    "                              drone_position[2] + camera_target[2]],\n",
    "        cameraUpVector=[1, 0, 0]  # Assuming the up direction is along the x-axis\n",
    "    )\n",
    "    \n",
    "    # Render the camera images\n",
    "    images = p.getCameraImage(width, height, view_matrix, projection_matrix)\n",
    "    \n",
    "    # Extract the RGB image\n",
    "    rgba_img = np.reshape(images[2], (height, width, 4))  # RGBA image\n",
    "    rgb_img = rgba_img[:, :, :3]  # Convert to RGB by ignoring the alpha channel\n",
    "    \n",
    "    # Convert RGB to BGR\n",
    "    bgr_img = cv2.cvtColor(rgb_img, cv2.COLOR_RGB2BGR)\n",
    "    \n",
    "    # Write the frame to the video file\n",
    "    out.write(bgr_img)\n",
    "    \n",
    "    # Add a small delay to control the simulation speed\n",
    "    time.sleep(1 / frame_rate)"
   ]
  },
  {
   "cell_type": "markdown",
   "metadata": {},
   "source": [
    "# Release the VideoWriter"
   ]
  },
  {
   "cell_type": "code",
   "execution_count": 7,
   "metadata": {},
   "outputs": [],
   "source": [
    "out.release()"
   ]
  },
  {
   "cell_type": "markdown",
   "metadata": {},
   "source": [
    "# Cleanup"
   ]
  },
  {
   "cell_type": "code",
   "execution_count": 8,
   "metadata": {},
   "outputs": [
    {
     "name": "stdout",
     "output_type": "stream",
     "text": [
      "numActiveThreads = 0\n",
      "stopping threads\n",
      "Thread with taskId 0 exiting\n",
      "Thread TERMINATED\n",
      "destroy semaphore\n",
      "semaphore destroyed\n",
      "destroy main semaphore\n",
      "main semaphore destroyed\n",
      "finished\n",
      "numActiveThreads = 0\n",
      "btShutDownExampleBrowser stopping threads\n",
      "Thread with taskId 0 exiting\n",
      "Thread TERMINATED\n",
      "destroy semaphore\n",
      "semaphore destroyed\n",
      "destroy main semaphore\n",
      "main semaphore destroyed\n"
     ]
    }
   ],
   "source": [
    "p.disconnect()"
   ]
  }
 ],
 "metadata": {
  "kernelspec": {
   "display_name": "Python 3",
   "language": "python",
   "name": "python3"
  },
  "language_info": {
   "codemirror_mode": {
    "name": "ipython",
    "version": 3
   },
   "file_extension": ".py",
   "mimetype": "text/x-python",
   "name": "python",
   "nbconvert_exporter": "python",
   "pygments_lexer": "ipython3",
   "version": "3.10.12"
  }
 },
 "nbformat": 4,
 "nbformat_minor": 4
}
