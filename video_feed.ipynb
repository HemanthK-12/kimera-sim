{
 "cells": [
  {
   "cell_type": "code",
   "execution_count": null,
   "metadata": {},
   "outputs": [],
   "source": [
    "import numpy as np\n",
    "import pybullet as p\n",
    "import pybullet_data as pd\n",
    "import time\n",
    "import imageio\n",
    "from datetime import datetime"
   ]
  },
  {
   "cell_type": "markdown",
   "metadata": {},
   "source": [
    "### Initialize parameters"
   ]
  },
  {
   "cell_type": "code",
   "execution_count": null,
   "metadata": {},
   "outputs": [],
   "source": [
    "p.connect(p.GUI)\n",
    "p.setAdditionalSearchPath(pd.getDataPath())"
   ]
  },
  {
   "cell_type": "markdown",
   "metadata": {},
   "source": [
    "### Initialise environment"
   ]
  },
  {
   "cell_type": "code",
   "execution_count": null,
   "metadata": {},
   "outputs": [],
   "source": [
    "# Load the URDF model\n",
    "\n",
    "quat = p.getQuaternionFromEuler([1.57, 0, 0])\n",
    "drone=p.loadURDF('./cf2/cf2.urdf', globalScaling=5, baseOrientation=quat, basePosition=[0,0,2])\n",
    "forest = p.loadURDF(\"./forest/forest.urdf\", basePosition=[0, 0, 0], baseOrientation=quat, useFixedBase=True)\n",
    "texture_id = p.loadTexture(\"./forest/forest.png\")\n",
    "p.changeVisualShape(forest, -1, textureUniqueId=texture_id)"
   ]
  },
  {
   "cell_type": "markdown",
   "metadata": {},
   "source": [
    "### Setting Camera Dimensions and parameters"
   ]
  },
  {
   "cell_type": "code",
   "execution_count": null,
   "metadata": {},
   "outputs": [],
   "source": [
    "width = 1920\n",
    "height = 1088\n",
    "\n",
    "fov = 60\n",
    "aspect = width / height\n",
    "near = 0.02\n",
    "far = 5\n",
    "\n",
    "timestamp = datetime.now().strftime('%Y%m%d_%H%M%S')\n",
    "video_writer = imageio.get_writer(f'./video/{timestamp}.mp4', fps=30)"
   ]
  },
  {
   "cell_type": "markdown",
   "metadata": {},
   "source": [
    "### Code for recording video feed "
   ]
  },
  {
   "cell_type": "code",
   "execution_count": null,
   "metadata": {},
   "outputs": [],
   "source": [
    "for frame in range(300):  \n",
    "\n",
    "    view_matrix = p.computeViewMatrix([0, 0, 3], [0, 0, 0], [0, 1, 0])\n",
    "    projection_matrix = p.computeProjectionMatrixFOV(fov, aspect, near, far)\n",
    "\n",
    "    images = p.getCameraImage(width, height, view_matrix, projection_matrix, renderer=p.ER_BULLET_HARDWARE_OPENGL)\n",
    "\n",
    "    rgb_img = np.reshape(images[2], (height, width, 4))[:, :, :3]\n",
    "\n",
    "    # Write the image to the video file\n",
    "    video_writer.append_data(rgb_img)\n",
    "\n",
    "    p.stepSimulation()\n",
    "    time.sleep(1./240.)\n",
    "\n",
    "video_writer.close()"
   ]
  }
 ],
 "metadata": {
  "kernelspec": {
   "display_name": "Python 3",
   "language": "python",
   "name": "python3"
  },
  "language_info": {
   "codemirror_mode": {
    "name": "ipython",
    "version": 3
   },
   "file_extension": ".py",
   "mimetype": "text/x-python",
   "name": "python",
   "nbconvert_exporter": "python",
   "pygments_lexer": "ipython3",
   "version": "3.10.12"
  }
 },
 "nbformat": 4,
 "nbformat_minor": 2
}
